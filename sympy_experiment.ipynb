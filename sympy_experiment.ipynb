{
 "cells": [
  {
   "cell_type": "code",
   "execution_count": 27,
   "metadata": {},
   "outputs": [
    {
     "name": "stdout",
     "output_type": "stream",
     "text": [
      "[5/3 - 2*x/3]\n"
     ]
    }
   ],
   "source": [
    "from sympy import symbols, Eq, solve\n",
    "\n",
    "# Define the symbols\n",
    "x, y = symbols('x y')\n",
    "\n",
    "# Write the linear equation 2x + 3y - 5 = 0\n",
    "equation = Eq(2*x + 3*y - 5, 0)\n",
    "\n",
    "# Solve the equation for y\n",
    "solution_for_y = solve(equation, y)\n",
    "print(solution_for_y)  # Output: [5/3 - 2*x/3]"
   ]
  },
  {
   "cell_type": "code",
   "execution_count": 96,
   "metadata": {},
   "outputs": [
    {
     "name": "stdout",
     "output_type": "stream",
     "text": [
      "Eq(0.71*b[1, 1], -0.355*b[1, 2] + 0.355*fc[1, 0] + 0.71*fc[2, 0] + 0.71*w[1, 2, 0] + 0.71*w[1, 2, 1])\n",
      "fc[1, 1] + w[1, 1, 0]\n",
      "HAAA\n",
      "y\n",
      "Eq(4*x + 4*b[1, 1] + 4, w[1, 2])\n",
      "(1, 1)\n"
     ]
    }
   ],
   "source": [
    "from sympy import IndexedBase\n",
    "from sympy.solvers.solveset import linsolve\n",
    "fc = IndexedBase('fc')\n",
    "b = IndexedBase('b')\n",
    "b2 = IndexedBase('b')\n",
    "w = IndexedBase('w')\n",
    "\n",
    "# eq = Eq((fc[(1,2)] - fc[(1,3)])/2 - 4*b[(4,5)] -1, 0)\n",
    "# solution_for_b0 = solve(eq, b[(4,5)])\n",
    "\n",
    "# # print()\n",
    "# print(solution_for_b0[0].as_coefficients_dict())\n",
    "i,j = 1,0\n",
    "n_x = 0.71\n",
    "n_y = 0.71\n",
    "n2_x = 1\n",
    "\n",
    "# eq1 = Eq(n_x*(b[1,2] - fc[1,0])/2 + (b[1,1] - fc[2,0])*n_y, 0)\n",
    "eq1 = Eq(n_x*(b[1,2] - fc[1,0])/2 + (b[1,1] - fc[2,0])*n_y, w[1,2,0]*n_x + w[1,2,1]*n_y)\n",
    "print(eq1.simplify())\n",
    "# print(eq1)\n",
    "# eq2 = Eq(b[1,1] - fc[1,1], 0)\n",
    "eq2 = Eq(b2[1,1] - fc[1,1], w[1,1,0]*n2_x)\n",
    "# print(eq2)\n",
    "\n",
    "(solution,) = linsolve((eq1, eq2), (b2[1,1], b2[1,2]))\n",
    "\n",
    "print(solution[0])\n",
    "print('HAAA')\n",
    "# for term,coeff in solution[0].as_coefficients_dict().items():\n",
    "#     if term.has(fc):\n",
    "#         print(term.indices[0])\n",
    "#         print(term.indices[1])\n",
    "#         print(coeff)\n",
    "\n",
    "solution2 = linsolve([x-y], x)\n",
    "print(list(solution2)[0][0])\n",
    "\n",
    "eqr = Eq((x+b[1,1])*4 + 4 + 0*b[1,2], w[1,2])\n",
    "print(eqr)\n",
    "\n",
    "for term, coeff in eqr.lhs.as_coefficients_dict().items():\n",
    "    if term.has(b):\n",
    "        print(term.indices)\n",
    "\n",
    "# for term in eqr.lhs.args:\n",
    "#     if term.has(x):\n",
    "#         print(\"Term containing x:\", term.indices)\n",
    "\n"
   ]
  },
  {
   "cell_type": "code",
   "execution_count": 48,
   "metadata": {},
   "outputs": [
    {
     "data": {
      "text/latex": [
       "$\\displaystyle \\left\\{\\left( 3, \\  - x - 2\\right)\\right\\}$"
      ],
      "text/plain": [
       "{(3, -x - 2)}"
      ]
     },
     "execution_count": 48,
     "metadata": {},
     "output_type": "execute_result"
    }
   ],
   "source": [
    "x, y, z = symbols('x, y, z')\n",
    "linsolve([x + y + z - 1, z - 3 ], (z,y))"
   ]
  },
  {
   "cell_type": "code",
   "execution_count": null,
   "metadata": {},
   "outputs": [],
   "source": []
  },
  {
   "cell_type": "code",
   "execution_count": 67,
   "metadata": {},
   "outputs": [
    {
     "ename": "StopIteration",
     "evalue": "",
     "output_type": "error",
     "traceback": [
      "\u001b[0;31m---------------------------------------------------------------------------\u001b[0m",
      "\u001b[0;31mStopIteration\u001b[0m                             Traceback (most recent call last)",
      "Cell \u001b[0;32mIn[67], line 1\u001b[0m\n\u001b[0;32m----> 1\u001b[0m \u001b[38;5;28mprint\u001b[39m(\u001b[38;5;28mnext\u001b[39m(\n\u001b[1;32m      2\u001b[0m             c\n\u001b[1;32m      3\u001b[0m             \u001b[38;5;28;01mfor\u001b[39;00m c \u001b[38;5;129;01min\u001b[39;00m [\u001b[38;5;241m1\u001b[39m, \u001b[38;5;241m2\u001b[39m, \u001b[38;5;241m3\u001b[39m, \u001b[38;5;241m4\u001b[39m]\n\u001b[1;32m      4\u001b[0m             \u001b[38;5;28;01mif\u001b[39;00m c \u001b[38;5;241m>\u001b[39m \u001b[38;5;241m5\u001b[39m)\n\u001b[1;32m      5\u001b[0m         )\n",
      "\u001b[0;31mStopIteration\u001b[0m: "
     ]
    }
   ],
   "source": [
    "print(next(\n",
    "            c\n",
    "            for c in [1, 2, 3, 4]\n",
    "            if c > 5)\n",
    "        )"
   ]
  }
 ],
 "metadata": {
  "kernelspec": {
   "display_name": "ai",
   "language": "python",
   "name": "python3"
  },
  "language_info": {
   "codemirror_mode": {
    "name": "ipython",
    "version": 3
   },
   "file_extension": ".py",
   "mimetype": "text/x-python",
   "name": "python",
   "nbconvert_exporter": "python",
   "pygments_lexer": "ipython3",
   "version": "3.11.8"
  }
 },
 "nbformat": 4,
 "nbformat_minor": 2
}
